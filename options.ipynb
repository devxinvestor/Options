{
 "cells": [
  {
   "cell_type": "markdown",
   "metadata": {},
   "source": [
    "# ML Options Pricing Model"
   ]
  },
  {
   "cell_type": "markdown",
   "metadata": {},
   "source": [
    "### This notebook replicates the functionality of `main.py` while adding visualizations, statistical comparisons, and regression analysis."
   ]
  },
  {
   "cell_type": "code",
   "execution_count": 5,
   "metadata": {},
   "outputs": [],
   "source": [
    "import yfinance as yf\n",
    "import numpy as np\n",
    "import pandas as pd\n",
    "import matplotlib.pyplot as plt\n",
    "import seaborn as sns\n",
    "from scipy.stats import norm\n",
    "from arch import arch_model\n",
    "from xgboost import XGBRegressor\n",
    "from sklearn.model_selection import train_test_split\n",
    "from sklearn.metrics import mean_squared_error, r2_score\n",
    "from sklearn.linear_model import LinearRegression"
   ]
  },
  {
   "cell_type": "code",
   "execution_count": 6,
   "metadata": {},
   "outputs": [],
   "source": [
    "from data_loader import options_chain\n",
    "from volatility_model import VolatilityModel\n",
    "from pricing_model import PricingModel\n",
    "from signal_generator import SignalGenerator"
   ]
  },
  {
   "cell_type": "code",
   "execution_count": 7,
   "metadata": {},
   "outputs": [],
   "source": [
    "sns.set_style(\"whitegrid\")\n",
    "plt.rcParams[\"figure.figsize\"] = (12, 6)"
   ]
  },
  {
   "cell_type": "markdown",
   "metadata": {},
   "source": [
    "### Calculate historical volatility using GARCH"
   ]
  },
  {
   "cell_type": "code",
   "execution_count": 1,
   "metadata": {},
   "outputs": [],
   "source": [
    "ticker = 'DVN'"
   ]
  },
  {
   "cell_type": "code",
   "execution_count": null,
   "metadata": {},
   "outputs": [],
   "source": [
    "options, interest_rate, implied_volatility = options_chain(ticker)\n",
    "stock_data = yf.download(ticker, period=\"5y\")"
   ]
  },
  {
   "cell_type": "code",
   "execution_count": null,
   "metadata": {},
   "outputs": [],
   "source": [
    "print(\"Stock Data:\")\n",
    "print(stock_data.tail())"
   ]
  },
  {
   "cell_type": "code",
   "execution_count": null,
   "metadata": {},
   "outputs": [],
   "source": [
    "volatility_model = VolatilityModel()\n",
    "stock_data['LogReturn'] = volatility_model.calculate_log_returns(stock_data['Adj Close'])\n",
    "garch_volatility = volatility_model.calculate_garch_volatility(stock_data['Adj Close'])"
   ]
  },
  {
   "cell_type": "code",
   "execution_count": null,
   "metadata": {},
   "outputs": [],
   "source": [
    "plt.figure(figsize=(12, 6))\n",
    "plt.plot(stock_data.index, garch_volatility, label=\"GARCH Volatility\", color=\"blue\")\n",
    "plt.title(f\"Historical Volatility vs. GARCH Volatility for {ticker}\")\n",
    "plt.xlabel(\"Date\")\n",
    "plt.ylabel(\"Volatility\")\n",
    "plt.legend()\n",
    "plt.show()"
   ]
  },
  {
   "cell_type": "code",
   "execution_count": null,
   "metadata": {},
   "outputs": [],
   "source": [
    "print(f\"Implied Volatility from Options Chain: {implied_volatility:.4f}\")\n",
    "print(f\"Latest GARCH Volatility: {garch_volatility.iloc[-1]:.4f}\")"
   ]
  },
  {
   "cell_type": "code",
   "execution_count": null,
   "metadata": {},
   "outputs": [],
   "source": [
    "options['Moneyness'] = stock_data['Adj Close'].iloc[-1] / options['strikePrice']\n",
    "options['TimeToExpiration'] = options['daysToExpiration'] / 365\n",
    "options['RiskFreeRate'] = interest_rate / 100\n",
    "options['HistoricalVolatility'] = garch_volatility.iloc[-1]"
   ]
  },
  {
   "cell_type": "code",
   "execution_count": null,
   "metadata": {},
   "outputs": [],
   "source": [
    "options = volatility_model.interpolate_vol_surface(options)"
   ]
  },
  {
   "cell_type": "markdown",
   "metadata": {},
   "source": [
    "### Train the XGBoost model"
   ]
  },
  {
   "cell_type": "code",
   "execution_count": null,
   "metadata": {},
   "outputs": [],
   "source": [
    "pricing_model = PricingModel()\n",
    "pricing_model.train_xgboost_model(options, interest_rate)"
   ]
  },
  {
   "cell_type": "code",
   "execution_count": null,
   "metadata": {},
   "outputs": [],
   "source": [
    "feature_importance = pd.DataFrame({\n",
    "    \"Feature\": options[['Moneyness', 'TimeToExpiration', 'RiskFreeRate', 'HistoricalVolatility']].columns,\n",
    "    \"Importance\": pricing_model.model.feature_importances_\n",
    "}).sort_values(by=\"Importance\", ascending=False)"
   ]
  },
  {
   "cell_type": "code",
   "execution_count": null,
   "metadata": {},
   "outputs": [],
   "source": [
    "plt.figure(figsize=(10, 6))\n",
    "sns.barplot(x=\"Importance\", y=\"Feature\", data=feature_importance, palette=\"viridis\")\n",
    "plt.title(\"Feature Importance in XGBoost Model\")\n",
    "plt.show()"
   ]
  },
  {
   "cell_type": "markdown",
   "metadata": {},
   "source": [
    "### Predict option prices"
   ]
  },
  {
   "cell_type": "code",
   "execution_count": null,
   "metadata": {},
   "outputs": [],
   "source": [
    "predicted_chain = pricing_model.predict_option_chain(\n",
    "    stock_price=stock_data['Adj Close'].iloc[-1],\n",
    "    options_chain=options,\n",
    "    interest_rate=interest_rate,\n",
    "    historical_volatility=garch_volatility.iloc[-1]\n",
    ")"
   ]
  },
  {
   "cell_type": "code",
   "execution_count": null,
   "metadata": {},
   "outputs": [],
   "source": [
    "plt.figure(figsize=(10, 6))\n",
    "plt.scatter(predicted_chain['mark'], predicted_chain['theoreticalOptionValue'], alpha=0.6)\n",
    "plt.plot([min(predicted_chain['mark']), max(predicted_chain['mark'])], \n",
    "         [min(predicted_chain['mark']), max(predicted_chain['mark'])], \n",
    "         color=\"red\", linestyle=\"--\")\n",
    "plt.xlabel(\"Market Price\")\n",
    "plt.ylabel(\"Predicted Price\")\n",
    "plt.title(\"Predicted vs. Market Prices\")\n",
    "plt.show()"
   ]
  },
  {
   "cell_type": "markdown",
   "metadata": {},
   "source": [
    "### Regression Analysis"
   ]
  },
  {
   "cell_type": "code",
   "execution_count": null,
   "metadata": {},
   "outputs": [],
   "source": [
    "X = predicted_chain[['mark']]\n",
    "y = predicted_chain['theoreticalOptionValue']\n",
    "regressor = LinearRegression()\n",
    "regressor.fit(X, y)\n",
    "y_pred = regressor.predict(X)"
   ]
  },
  {
   "cell_type": "code",
   "execution_count": null,
   "metadata": {},
   "outputs": [],
   "source": [
    "print(f\"R² Score: {r2_score(y, y_pred):.4f}\")\n",
    "print(f\"Mean Squared Error: {mean_squared_error(y, y_pred):.4f}\")"
   ]
  },
  {
   "cell_type": "markdown",
   "metadata": {},
   "source": [
    "### Trading Signals"
   ]
  },
  {
   "cell_type": "code",
   "execution_count": null,
   "metadata": {},
   "outputs": [],
   "source": [
    "signal_generator = SignalGenerator(threshold=0.05)\n",
    "signals = signal_generator.generate_trading_signals(predicted_chain)"
   ]
  },
  {
   "cell_type": "code",
   "execution_count": null,
   "metadata": {},
   "outputs": [],
   "source": [
    "print(\"\\nTrading Signals:\")\n",
    "print(signal_generator.format_output(signals))"
   ]
  },
  {
   "cell_type": "code",
   "execution_count": null,
   "metadata": {},
   "outputs": [],
   "source": [
    "plt.figure(figsize=(10, 6))\n",
    "sns.histplot(signals['priceDifference'], bins=30, kde=True, color=\"purple\")\n",
    "plt.title(\"Distribution of Price Differences (Predicted vs. Market)\")\n",
    "plt.xlabel(\"Price Difference\")\n",
    "plt.ylabel(\"Frequency\")\n",
    "plt.show()"
   ]
  },
  {
   "cell_type": "code",
   "execution_count": null,
   "metadata": {},
   "outputs": [],
   "source": [
    "plt.figure(figsize=(12, 6))\n",
    "sns.scatterplot(x=\"strikePrice\", y=\"priceDifference\", hue=\"signal\", data=signals, palette=\"viridis\")\n",
    "plt.title(\"Trading Signals by Strike Price and Price Difference\")\n",
    "plt.xlabel(\"Strike Price\")\n",
    "plt.ylabel(\"Price Difference\")\n",
    "plt.legend(title=\"Signal\")\n",
    "plt.show()"
   ]
  }
 ],
 "metadata": {
  "kernelspec": {
   "display_name": "Python 3",
   "language": "python",
   "name": "python3"
  },
  "language_info": {
   "codemirror_mode": {
    "name": "ipython",
    "version": 3
   },
   "file_extension": ".py",
   "mimetype": "text/x-python",
   "name": "python",
   "nbconvert_exporter": "python",
   "pygments_lexer": "ipython3",
   "version": "3.11.5"
  }
 },
 "nbformat": 4,
 "nbformat_minor": 2
}
