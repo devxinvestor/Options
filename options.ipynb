{
 "cells": [
  {
   "cell_type": "markdown",
   "metadata": {},
   "source": [
    "# ML Options Pricing Model"
   ]
  },
  {
   "cell_type": "markdown",
   "metadata": {},
   "source": [
    "### This notebook replicates the functionality of `main.py` while adding visualizations, statistical comparisons, and regression analysis."
   ]
  },
  {
   "cell_type": "code",
   "execution_count": null,
   "metadata": {},
   "outputs": [],
   "source": [
    "import yfinance as yf\n",
    "import numpy as np\n",
    "import matplotlib.pyplot as plt\n",
    "import seaborn as sns\n",
    "from arch import arch_model\n",
    "from scipy.interpolate import griddata"
   ]
  },
  {
   "cell_type": "code",
   "execution_count": null,
   "metadata": {},
   "outputs": [],
   "source": [
    "from data_loader import get_options_chain, parse_options_chain\n",
    "from volatility_model import VolatilityModel\n",
    "from pricing_model import PricingModel\n",
    "from signal_generator import SignalGenerator"
   ]
  },
  {
   "cell_type": "code",
   "execution_count": null,
   "metadata": {},
   "outputs": [],
   "source": [
    "sns.set_style(\"whitegrid\")\n",
    "plt.rcParams[\"figure.figsize\"] = (12, 6)"
   ]
  },
  {
   "cell_type": "markdown",
   "metadata": {},
   "source": [
    "### Calculate historical volatility using GARCH"
   ]
  },
  {
   "cell_type": "code",
   "execution_count": null,
   "metadata": {},
   "outputs": [],
   "source": [
    "ticker = 'AAPL'"
   ]
  },
  {
   "cell_type": "code",
   "execution_count": null,
   "metadata": {},
   "outputs": [],
   "source": [
    "options_json = get_options_chain(ticker)\n",
    "options_json"
   ]
  },
  {
   "cell_type": "code",
   "execution_count": null,
   "metadata": {},
   "outputs": [],
   "source": [
    "options = parse_options_chain(options_json)"
   ]
  },
  {
   "cell_type": "code",
   "execution_count": null,
   "metadata": {},
   "outputs": [],
   "source": [
    "stock_data = yf.download(ticker, period=\"5y\")"
   ]
  },
  {
   "cell_type": "code",
   "execution_count": null,
   "metadata": {},
   "outputs": [],
   "source": [
    "# get the interest rate from an api 10 year treasury yield\n",
    "interest_rate = yf.Ticker(\"^TNX\").history(period=\"1d\")[\"Close\"].iloc[-1]"
   ]
  },
  {
   "cell_type": "code",
   "execution_count": null,
   "metadata": {},
   "outputs": [],
   "source": [
    "print(\"Options Chain:\")\n",
    "print(options.head())"
   ]
  },
  {
   "cell_type": "code",
   "execution_count": null,
   "metadata": {},
   "outputs": [],
   "source": [
    "plt.figure(figsize=(10, 6))\n",
    "plt.plot(stock_data['Close'], label='Close Price')\n",
    "plt.title(f\"{ticker} Historical Stock Price\")\n",
    "plt.xlabel(\"Date\")\n",
    "plt.ylabel(\"Price\")\n",
    "plt.legend()\n",
    "plt.show()"
   ]
  },
  {
   "cell_type": "code",
   "execution_count": null,
   "metadata": {},
   "outputs": [],
   "source": [
    "stock_data['LogReturn'] = np.log(stock_data['Close'] / stock_data['Close'].shift(1))\n",
    "stock_data.dropna(inplace=True)"
   ]
  },
  {
   "cell_type": "code",
   "execution_count": null,
   "metadata": {},
   "outputs": [],
   "source": [
    "stock_data['LogReturn'] *= 100"
   ]
  },
  {
   "cell_type": "code",
   "execution_count": null,
   "metadata": {},
   "outputs": [],
   "source": [
    "garch_model = arch_model(stock_data['LogReturn'], vol='Garch', p=1, q=1)\n",
    "garch_model_fit = garch_model.fit(disp='off')"
   ]
  },
  {
   "cell_type": "code",
   "execution_count": null,
   "metadata": {},
   "outputs": [],
   "source": [
    "print(garch_model_fit.summary())"
   ]
  },
  {
   "cell_type": "code",
   "execution_count": null,
   "metadata": {},
   "outputs": [],
   "source": [
    "plt.figure(figsize=(10, 6))\n",
    "plt.plot(garch_model_fit.conditional_volatility, label='Conditional Volatility')\n",
    "plt.title(f\"{ticker} Conditional Volatility (GARCH)\")\n",
    "plt.xlabel(\"Time\")\n",
    "plt.ylabel(\"Volatility\")\n",
    "plt.legend()\n",
    "plt.show()"
   ]
  },
  {
   "cell_type": "code",
   "execution_count": null,
   "metadata": {},
   "outputs": [],
   "source": [
    "underlying_price = stock_data['Close'].iloc[-1]\n",
    "risk_free_rate = interest_rate / 100"
   ]
  },
  {
   "cell_type": "code",
   "execution_count": null,
   "metadata": {},
   "outputs": [],
   "source": [
    "volModel = VolatilityModel(options_chain_df=options, underlying_price=underlying_price, risk_free_rate=risk_free_rate)\n",
    "historical_volatility = garch_model_fit.conditional_volatility"
   ]
  },
  {
   "cell_type": "code",
   "execution_count": null,
   "metadata": {},
   "outputs": [],
   "source": [
    "options['ImpliedVolatility'] = options.apply(\n",
    "    lambda row: volModel.calculate_implied_volatility(\n",
    "        option_price=row['mark'],\n",
    "        strike=row['strikePrice'],\n",
    "        expiration_days=row['daysToExpiration'],\n",
    "        option_type=row['putCall'],  # 'CALL' or 'PUT'\n",
    "    ),\n",
    "    axis=1\n",
    ")"
   ]
  },
  {
   "cell_type": "code",
   "execution_count": null,
   "metadata": {},
   "outputs": [],
   "source": [
    "# Display the first few rows of the options chain with implied volatilities\n",
    "print(\"Options Chain with Implied Volatilities:\")\n",
    "print(options.head())"
   ]
  },
  {
   "cell_type": "code",
   "execution_count": null,
   "metadata": {},
   "outputs": [],
   "source": [
    "# Plot implied volatility vs strike price\n",
    "plt.figure(figsize=(10, 6))\n",
    "plt.scatter(options['strikePrice'], options['ImpliedVolatility'], label='Implied Volatility')\n",
    "plt.title(f\"{ticker} Implied Volatility vs Strike Price\")\n",
    "plt.xlabel(\"Strike Price\")\n",
    "plt.ylabel(\"Implied Volatility\")\n",
    "plt.legend()\n",
    "plt.show()"
   ]
  },
  {
   "cell_type": "code",
   "execution_count": null,
   "metadata": {},
   "outputs": [],
   "source": [
    "strikes = options['strikePrice'].values\n",
    "expirations = options['daysToExpiration'].values\n",
    "implied_vols = options['ImpliedVolatility'].values"
   ]
  },
  {
   "cell_type": "code",
   "execution_count": null,
   "metadata": {},
   "outputs": [],
   "source": [
    "grid_strikes, grid_expirations = np.meshgrid(\n",
    "    np.linspace(strikes.min(), strikes.max(), 100),\n",
    "    np.linspace(expirations.min(), expirations.max(), 100)\n",
    ")"
   ]
  },
  {
   "cell_type": "code",
   "execution_count": null,
   "metadata": {},
   "outputs": [],
   "source": [
    "# Add small noise to strikes and expirations\n",
    "noise_level = 1e-5  # Adjust this value as needed\n",
    "strikes = options['strikePrice'].values + np.random.normal(0, noise_level, size=len(options))\n",
    "expirations = options['daysToExpiration'].values + np.random.normal(0, noise_level, size=len(options))\n",
    "implied_vols = options['ImpliedVolatility'].values\n",
    "\n",
    "# Create a grid for interpolation\n",
    "grid_strikes, grid_expirations = np.meshgrid(\n",
    "    np.linspace(strikes.min(), strikes.max(), 100),\n",
    "    np.linspace(expirations.min(), expirations.max(), 100)\n",
    ")\n",
    "\n",
    "# Interpolate using cubic spline\n",
    "volatility_surface = griddata(\n",
    "    (strikes, expirations), implied_vols,\n",
    "    (grid_strikes, grid_expirations), method='cubic'\n",
    ")"
   ]
  },
  {
   "cell_type": "code",
   "execution_count": null,
   "metadata": {},
   "outputs": [],
   "source": [
    "plt.figure(figsize=(10, 6))\n",
    "plt.contourf(grid_strikes, grid_expirations, volatility_surface, levels=50, cmap='viridis')\n",
    "plt.colorbar(label='Implied Volatility')\n",
    "plt.title(f\"{ticker} Volatility Surface\")\n",
    "plt.xlabel(\"Strike Price\")\n",
    "plt.ylabel(\"Days to Expiration\")\n",
    "plt.show()"
   ]
  },
  {
   "cell_type": "code",
   "execution_count": null,
   "metadata": {},
   "outputs": [],
   "source": [
    "underlying_price = stock_data['Close'].iloc[-1]\n",
    "options['Moneyness'] = underlying_price[0] / options['strikePrice']\n",
    "options['TimeToExpiration'] = options['daysToExpiration'] / 365\n",
    "options['RiskFreeRate'] = interest_rate / 100\n",
    "options['HistoricalVolatility'] = garch_model_fit.conditional_volatility[-1] / 100"
   ]
  },
  {
   "cell_type": "code",
   "execution_count": null,
   "metadata": {},
   "outputs": [],
   "source": [
    "print(\"Options Chain with Features:\")\n",
    "print(options.head())"
   ]
  },
  {
   "cell_type": "markdown",
   "metadata": {},
   "source": [
    "### Train the XGBoost model"
   ]
  },
  {
   "cell_type": "code",
   "execution_count": null,
   "metadata": {},
   "outputs": [],
   "source": [
    "pricing_model = PricingModel()\n",
    "pricing_model.train_xgboost_model(options, underlying_price[0], interest_rate/100, historical_volatility[0])"
   ]
  },
  {
   "cell_type": "code",
   "execution_count": null,
   "metadata": {},
   "outputs": [],
   "source": [
    "predicted_chain = pricing_model.predict_option_chain(\n",
    "    stock_price=stock_data['Close'].iloc[-1],\n",
    "    options_chain=options,\n",
    "    interest_rate=interest_rate,\n",
    "    historical_volatility=historical_volatility.iloc[-1]\n",
    ")"
   ]
  },
  {
   "cell_type": "code",
   "execution_count": null,
   "metadata": {},
   "outputs": [],
   "source": [
    "print(\"Predicted Option Chain:\")\n",
    "print(predicted_chain.head())"
   ]
  },
  {
   "cell_type": "markdown",
   "metadata": {},
   "source": [
    "### Trading Signals"
   ]
  },
  {
   "cell_type": "code",
   "execution_count": null,
   "metadata": {},
   "outputs": [],
   "source": [
    "signal_generator = SignalGenerator()\n",
    "signals = signal_generator.generate_trading_signals(predicted_chain)"
   ]
  },
  {
   "cell_type": "code",
   "execution_count": null,
   "metadata": {},
   "outputs": [],
   "source": [
    "print(\"\\nTrading Signals:\")\n",
    "print(signal_generator.format_output(signals))"
   ]
  },
  {
   "cell_type": "code",
   "execution_count": null,
   "metadata": {},
   "outputs": [],
   "source": [
    "plt.figure(figsize=(10, 6))\n",
    "sns.histplot(signals['priceDifference'], bins=30, kde=True, color=\"purple\")\n",
    "plt.title(\"Distribution of Price Differences (Predicted vs. Market)\")\n",
    "plt.xlabel(\"Price Difference\")\n",
    "plt.ylabel(\"Frequency\")\n",
    "plt.show()"
   ]
  },
  {
   "cell_type": "code",
   "execution_count": null,
   "metadata": {},
   "outputs": [],
   "source": [
    "plt.figure(figsize=(12, 6))\n",
    "sns.scatterplot(x=\"strikePrice\", y=\"priceDifference\", hue=\"signal\", data=signals, palette=\"viridis\")\n",
    "plt.title(\"Trading Signals by Strike Price and Price Difference\")\n",
    "plt.xlabel(\"Strike Price\")\n",
    "plt.ylabel(\"Price Difference\")\n",
    "plt.legend(title=\"Signal\")\n",
    "plt.show()"
   ]
  },
  {
   "cell_type": "code",
   "execution_count": null,
   "metadata": {},
   "outputs": [],
   "source": []
  }
 ],
 "metadata": {
  "kernelspec": {
   "display_name": "Python 3",
   "language": "python",
   "name": "python3"
  },
  "language_info": {
   "codemirror_mode": {
    "name": "ipython",
    "version": 3
   },
   "file_extension": ".py",
   "mimetype": "text/x-python",
   "name": "python",
   "nbconvert_exporter": "python",
   "pygments_lexer": "ipython3",
   "version": "3.11.5"
  }
 },
 "nbformat": 4,
 "nbformat_minor": 2
}
